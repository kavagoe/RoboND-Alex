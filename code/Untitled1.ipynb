{
 "cells": [
  {
   "cell_type": "code",
   "execution_count": null,
   "metadata": {
    "collapsed": true
   },
   "outputs": [],
   "source": [
    "import matplotlib.pyplot as plt\n",
    "import matplotlib.image as mpimg\n",
    "import numpy as np\n",
    "import cv2\n",
    "\n",
    "image = mpimg.imread('example_grid1.jpg')\n",
    "\n",
    "def perspect_transform(img, src, dst):\n",
    "\n",
    "    # Get transform matrix using cv2.getPerspectivTransform()\n",
    "    M = cv2.getPerspectiveTransform(src, dst)\n",
    "    # Warp image using cv2.warpPerspective()\n",
    "    # keep same size as input image\n",
    "    warped = cv2.warpPerspective(img, M, (img.shape[1], img.shape[0]))\n",
    "    # Return the result\n",
    "    return warped\n",
    "\n",
    "# TODO:\n",
    "# Define a box in source (original) and \n",
    "# destination (desired) coordinates\n",
    "# Right now source and destination are just \n",
    "# set to equal the four corners\n",
    "# of the image so no transform is taking place\n",
    "# Try experimenting with different values!\n",
    "source = np.float32([[12,143 ],[118,93 ],[200 ,93 ],[305 ,143 ]])\n",
    "destination = np.float32([[image.shape[1]/2-5,image.shape[0]], \n",
    "                          [image.shape[1]/2-5,image.shape[0]-10], \n",
    "                          [image.shape[1]/2+5, image.shape[0]-10], \n",
    "                          [image.shape[1]/2+5,image.shape[0]]])      \n",
    "\n",
    "warped = perspect_transform(image, source, destination)\n",
    "# Draw Source and destination points on images (in blue) before plotting\n",
    "cv2.polylines(image, np.int32([source]), True, (0, 0, 255), 3)\n",
    "cv2.polylines(warped, np.int32([destination]), True, (0, 0, 255), 3)\n",
    "# Display the original image and binary               \n",
    "f, (ax1, ax2) = plt.subplots(1, 2, figsize=(24, 6), sharey=True)\n",
    "f.tight_layout()\n",
    "ax1.imshow(image)\n",
    "ax1.set_title('Original Image', fontsize=40)\n",
    "\n",
    "ax2.imshow(warped, cmap='gray')\n",
    "ax2.set_title('Result', fontsize=40)\n",
    "plt.subplots_adjust(left=0., right=1, top=0.9, bottom=0.)"
   ]
  }
 ],
 "metadata": {
  "kernelspec": {
   "display_name": "Python 3",
   "language": "python",
   "name": "python3"
  },
  "language_info": {
   "codemirror_mode": {
    "name": "ipython",
    "version": 3
   },
   "file_extension": ".py",
   "mimetype": "text/x-python",
   "name": "python",
   "nbconvert_exporter": "python",
   "pygments_lexer": "ipython3",
   "version": "3.5.2"
  },
  "widgets": {
   "state": {},
   "version": "1.1.2"
  }
 },
 "nbformat": 4,
 "nbformat_minor": 2
}
